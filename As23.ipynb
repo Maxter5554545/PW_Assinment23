{
 "cells": [
  {
   "cell_type": "code",
   "execution_count": 5,
   "id": "740ab4a4-65de-4f56-bb4f-1d84b007c274",
   "metadata": {},
   "outputs": [],
   "source": [
    "import logging\n",
    "import numpy as np\n",
    "list_ = ['1', '2', '3', '4', '5']\n",
    "array_list = np.array(object=list_)\n",
    "logging.basicConfig(filename=\"as23.log\", level=logging.DEBUG)"
   ]
  },
  {
   "cell_type": "code",
   "execution_count": 41,
   "id": "b9a3cd62-8e9a-408c-a213-970c53f8e1a6",
   "metadata": {},
   "outputs": [],
   "source": [
    "# Q1. Is there any difference in the data type of variables list_ and array_list? If there is then write a code\n",
    "# to print the data types of both the variables.\n",
    "try:\n",
    "    logging.info(\"The variable list_ is the data type of list while the the array_list is the set of numpy.ndarrays.\\n\")\n",
    "    logging.info(f\"The data type of the variable list_ is {type(list_)}\\nThe data type of the variable array_list is {type(array_list)}\")\n",
    "except TypeError as t:\n",
    "    logging.error(t)"
   ]
  },
  {
   "cell_type": "code",
   "execution_count": 42,
   "id": "efd58951-b809-463f-98c9-04019bd86e17",
   "metadata": {},
   "outputs": [],
   "source": [
    "# Q2. Write a code to print the data type of each and every element of both the variables list_ and\n",
    "# arra_list.\n",
    "try:\n",
    "    logging.info(f\"The data types of each elements in list_ variable are: {[type(i) for i in list_]}\")\n",
    "    logging.info(f\"The data types of each elements in array_list variable are: {[type(j) for j in array_list]}\")\n",
    "except ValueError as v:\n",
    "    logging.error(v)"
   ]
  },
  {
   "cell_type": "code",
   "execution_count": 43,
   "id": "d4d914e2-45a2-480d-858c-0aba52ebe697",
   "metadata": {},
   "outputs": [],
   "source": [
    "# Q3. Considering the following changes in the variable, array_list:\n",
    "# array_list = np.array(object = list_, dtype = int)\n",
    "# Will there be any difference in the data type of the elements present in both the variables, list_ and\n",
    "# arra_list? If so then print the data types of each and every element present in both the variables, list_\n",
    "# and arra_list.\n",
    "# Consider the below code to answer further questions:\n",
    "# import numpy as np\n",
    "# num_list = [ [ 1 , 2 , 3 ] , [ 4 , 5 , 6 ] ]\n",
    "# num_array = np.array(object = num_list)\n",
    "array_list = np.array(object = list_, dtype = int)\n",
    "try:\n",
    "    for i in array_list: #here we can see that the data type of each element is converted into integer\n",
    "        logging.info(type(i))\n",
    "        logging.info(\"\")\n",
    "    for j in list_:\n",
    "        logging.info(type(j)) #here each & every elements inside the list_ variable is in string\n",
    "except ValueError as v:\n",
    "    logging.error(v)\n",
    "import numpy as np\n",
    "num_list = [[1,2,3], [4,5,6]]\n",
    "num_array = np.array(object=num_list)"
   ]
  },
  {
   "cell_type": "code",
   "execution_count": 44,
   "id": "691ba5d9-dd1b-4231-864a-971924033c18",
   "metadata": {},
   "outputs": [],
   "source": [
    "# Q4. Write a code to find the following characteristics of variable, num_array:\n",
    "# (i) shape\n",
    "# (ii) size\n",
    "try:\n",
    "    logging.info(num_array)\n",
    "    logging.info(np.shape(num_array)) #The shape of num_array variable is.\n",
    "    logging.info(np.size(num_array)) # The size of num_array variable is.\n",
    "except ValueError as v:\n",
    "    logging.error(v)"
   ]
  },
  {
   "cell_type": "code",
   "execution_count": 48,
   "id": "bb79f35b-6e7a-44db-89b8-d20d78c7c2d5",
   "metadata": {},
   "outputs": [
    {
     "data": {
      "text/plain": [
       "array([[0., 0., 0.],\n",
       "       [0., 0., 0.],\n",
       "       [0., 0., 0.]])"
      ]
     },
     "execution_count": 48,
     "metadata": {},
     "output_type": "execute_result"
    }
   ],
   "source": [
    "# Q5. Write a code to create numpy array of 3*3 matrix containing zeros only, using a numpy array\n",
    "# creation function.\n",
    "# [Hint: The size of the array will be 9 and the shape will be (3,3).]\n",
    "try:\n",
    "    logging.info(np.zeros((3,3)))\n",
    "except ValueError as v:\n",
    "    logging.error(v)"
   ]
  },
  {
   "cell_type": "code",
   "execution_count": 51,
   "id": "04375dea-6ec4-48fd-9eea-d6b19809c9b2",
   "metadata": {},
   "outputs": [],
   "source": [
    "# Q6. Create an identity matrix of shape (5,5) using numpy functions?\n",
    "# [Hint: An identity matrix is a matrix containing 1 diagonally and other elements will be 0.]\n",
    "try:\n",
    "    logging.info(np.diag([1,1,1,1,1]))\n",
    "except ValueError as v:\n",
    "    logging.info(v)\n"
   ]
  },
  {
   "cell_type": "code",
   "execution_count": null,
   "id": "0fb2be92-23cf-409a-836c-929e0247a5c8",
   "metadata": {},
   "outputs": [],
   "source": []
  }
 ],
 "metadata": {
  "kernelspec": {
   "display_name": "Python 3 (ipykernel)",
   "language": "python",
   "name": "python3"
  },
  "language_info": {
   "codemirror_mode": {
    "name": "ipython",
    "version": 3
   },
   "file_extension": ".py",
   "mimetype": "text/x-python",
   "name": "python",
   "nbconvert_exporter": "python",
   "pygments_lexer": "ipython3",
   "version": "3.10.8"
  }
 },
 "nbformat": 4,
 "nbformat_minor": 5
}
